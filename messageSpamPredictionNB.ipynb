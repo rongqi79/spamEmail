{
 "cells": [
  {
   "cell_type": "code",
   "execution_count": 1,
   "metadata": {
    "collapsed": false
   },
   "outputs": [
    {
     "name": "stderr",
     "output_type": "stream",
     "text": [
      "/home/rong/anaconda3/lib/python3.6/site-packages/sklearn/cross_validation.py:44: DeprecationWarning: This module was deprecated in version 0.18 in favor of the model_selection module into which all the refactored classes and functions are moved. Also note that the interface of the new CV iterators are different from that of this module. This module will be removed in 0.20.\n",
      "  \"This module will be removed in 0.20.\", DeprecationWarning)\n",
      "/home/rong/anaconda3/lib/python3.6/site-packages/sklearn/grid_search.py:43: DeprecationWarning: This module was deprecated in version 0.18 in favor of the model_selection module into which all the refactored classes and functions are moved. This module will be removed in 0.20.\n",
      "  DeprecationWarning)\n",
      "/home/rong/anaconda3/lib/python3.6/site-packages/sklearn/learning_curve.py:23: DeprecationWarning: This module was deprecated in version 0.18 in favor of the model_selection module into which all the functions are moved. This module will be removed in 0.20\n",
      "  DeprecationWarning)\n"
     ]
    }
   ],
   "source": [
    "%matplotlib inline\n",
    "import matplotlib.pyplot as plt\n",
    "import csv\n",
    "from textblob import TextBlob\n",
    "import pandas\n",
    "import sklearn\n",
    "from six.moves import cPickle as pickle\n",
    "import numpy as np\n",
    "from sklearn.feature_extraction.text import CountVectorizer, TfidfTransformer\n",
    "from sklearn.naive_bayes import MultinomialNB\n",
    "from sklearn.svm import SVC, LinearSVC\n",
    "from sklearn.metrics import classification_report, f1_score, accuracy_score, confusion_matrix\n",
    "from sklearn.pipeline import Pipeline\n",
    "from sklearn.grid_search import GridSearchCV\n",
    "from sklearn.cross_validation import StratifiedKFold, cross_val_score, train_test_split \n",
    "from sklearn.tree import DecisionTreeClassifier \n",
    "from sklearn.learning_curve import learning_curve"
   ]
  },
  {
   "cell_type": "code",
   "execution_count": 2,
   "metadata": {
    "collapsed": false
   },
   "outputs": [
    {
     "name": "stdout",
     "output_type": "stream",
     "text": [
      "5574\n"
     ]
    }
   ],
   "source": [
    "messages = [line.rstrip() for line in open('./SMSSpamCollection')]\n",
    "print(len(messages))"
   ]
  },
  {
   "cell_type": "code",
   "execution_count": 3,
   "metadata": {
    "collapsed": false
   },
   "outputs": [
    {
     "name": "stdout",
     "output_type": "stream",
     "text": [
      "0 ham\tGo until jurong point, crazy.. Available only in bugis n great world la e buffet... Cine there got amore wat...\n",
      "1 ham\tOk lar... Joking wif u oni...\n",
      "2 spam\tFree entry in 2 a wkly comp to win FA Cup final tkts 21st May 2005. Text FA to 87121 to receive entry question(std txt rate)T&C's apply 08452810075over18's\n",
      "3 ham\tU dun say so early hor... U c already then say...\n",
      "4 ham\tNah I don't think he goes to usf, he lives around here though\n",
      "5 spam\tFreeMsg Hey there darling it's been 3 week's now and no word back! I'd like some fun you up for it still? Tb ok! XxX std chgs to send, £1.50 to rcv\n",
      "6 ham\tEven my brother is not like to speak with me. They treat me like aids patent.\n",
      "7 ham\tAs per your request 'Melle Melle (Oru Minnaminunginte Nurungu Vettam)' has been set as your callertune for all Callers. Press *9 to copy your friends Callertune\n",
      "8 spam\tWINNER!! As a valued network customer you have been selected to receivea £900 prize reward! To claim call 09061701461. Claim code KL341. Valid 12 hours only.\n",
      "9 spam\tHad your mobile 11 months or more? U R entitled to Update to the latest colour mobiles with camera for Free! Call The Mobile Update Co FREE on 08002986030\n"
     ]
    }
   ],
   "source": [
    "for message_no, message in enumerate(messages[:10]):\n",
    "    print(message_no, message)"
   ]
  },
  {
   "cell_type": "code",
   "execution_count": 4,
   "metadata": {
    "collapsed": false,
    "scrolled": true
   },
   "outputs": [
    {
     "name": "stdout",
     "output_type": "stream",
     "text": [
      "     label                                            message\n",
      "0      ham  Go until jurong point, crazy.. Available only ...\n",
      "1      ham                      Ok lar... Joking wif u oni...\n",
      "2     spam  Free entry in 2 a wkly comp to win FA Cup fina...\n",
      "3      ham  U dun say so early hor... U c already then say...\n",
      "4      ham  Nah I don't think he goes to usf, he lives aro...\n",
      "5     spam  FreeMsg Hey there darling it's been 3 week's n...\n",
      "6      ham  Even my brother is not like to speak with me. ...\n",
      "7      ham  As per your request 'Melle Melle (Oru Minnamin...\n",
      "8     spam  WINNER!! As a valued network customer you have...\n",
      "9     spam  Had your mobile 11 months or more? U R entitle...\n",
      "10     ham  I'm gonna be home soon and i don't want to tal...\n",
      "11    spam  SIX chances to win CASH! From 100 to 20,000 po...\n",
      "12    spam  URGENT! You have won a 1 week FREE membership ...\n",
      "13     ham  I've been searching for the right words to tha...\n",
      "14     ham                I HAVE A DATE ON SUNDAY WITH WILL!!\n",
      "15    spam  XXXMobileMovieClub: To use your credit, click ...\n",
      "16     ham                         Oh k...i'm watching here:)\n",
      "17     ham  Eh u remember how 2 spell his name... Yes i di...\n",
      "18     ham  Fine if thats the way u feel. Thats the way ...\n",
      "19    spam  England v Macedonia - dont miss the goals/team...\n",
      "20     ham          Is that seriously how you spell his name?\n",
      "21     ham    I‘m going to try for 2 months ha ha only joking\n",
      "22     ham  So ü pay first lar... Then when is da stock co...\n",
      "23     ham  Aft i finish my lunch then i go str down lor. ...\n",
      "24     ham  Ffffffffff. Alright no way I can meet up with ...\n",
      "25     ham  Just forced myself to eat a slice. I'm really ...\n",
      "26     ham                     Lol your always so convincing.\n",
      "27     ham  Did you catch the bus ? Are you frying an egg ...\n",
      "28     ham  I'm back &amp; we're packing the car now, I'll...\n",
      "29     ham  Ahhh. Work. I vaguely remember that! What does...\n",
      "...    ...                                                ...\n",
      "5544   ham           Armand says get your ass over to epsilon\n",
      "5545   ham             U still havent got urself a jacket ah?\n",
      "5546   ham  I'm taking derek &amp; taylor to walmart, if I...\n",
      "5547   ham      Hi its in durban are you still on this number\n",
      "5548   ham         Ic. There are a lotta childporn cars then.\n",
      "5549  spam  Had your contract mobile 11 Mnths? Latest Moto...\n",
      "5550   ham                 No, I was trying it all weekend ;V\n",
      "5551   ham  You know, wot people wear. T shirts, jumpers, ...\n",
      "5552   ham        Cool, what time you think you can get here?\n",
      "5553   ham  Wen did you get so spiritual and deep. That's ...\n",
      "5554   ham  Have a safe trip to Nigeria. Wish you happines...\n",
      "5555   ham                        Hahaha..use your brain dear\n",
      "5556   ham  Well keep in mind I've only got enough gas for...\n",
      "5557   ham  Yeh. Indians was nice. Tho it did kane me off ...\n",
      "5558   ham  Yes i have. So that's why u texted. Pshew...mi...\n",
      "5559   ham  No. I meant the calculation is the same. That ...\n",
      "5560   ham                             Sorry, I'll call later\n",
      "5561   ham  if you aren't here in the next  &lt;#&gt;  hou...\n",
      "5562   ham                  Anything lor. Juz both of us lor.\n",
      "5563   ham  Get me out of this dump heap. My mom decided t...\n",
      "5564   ham  Ok lor... Sony ericsson salesman... I ask shuh...\n",
      "5565   ham                                Ard 6 like dat lor.\n",
      "5566   ham  Why don't you wait 'til at least wednesday to ...\n",
      "5567   ham                                       Huh y lei...\n",
      "5568  spam  REMINDER FROM O2: To get 2.50 pounds free call...\n",
      "5569  spam  This is the 2nd time we have tried 2 contact u...\n",
      "5570   ham               Will ü b going to esplanade fr home?\n",
      "5571   ham  Pity, * was in mood for that. So...any other s...\n",
      "5572   ham  The guy did some bitching but I acted like i'd...\n",
      "5573   ham                         Rofl. Its true to its name\n",
      "\n",
      "[5574 rows x 2 columns]\n"
     ]
    }
   ],
   "source": [
    "messages = pandas.read_csv('./SMSSpamCollection', sep='\\t', quoting=csv.QUOTE_NONE,\n",
    "                           names=[\"label\", \"message\"])\n",
    "print(messages)"
   ]
  },
  {
   "cell_type": "code",
   "execution_count": 5,
   "metadata": {
    "collapsed": false
   },
   "outputs": [
    {
     "name": "stdout",
     "output_type": "stream",
     "text": [
      "  label                                            message  length\n",
      "0   ham  Go until jurong point, crazy.. Available only ...     111\n",
      "1   ham                      Ok lar... Joking wif u oni...      29\n",
      "2  spam  Free entry in 2 a wkly comp to win FA Cup fina...     155\n",
      "3   ham  U dun say so early hor... U c already then say...      49\n",
      "4   ham  Nah I don't think he goes to usf, he lives aro...      61\n"
     ]
    }
   ],
   "source": [
    "messages['length'] = messages['message'].map(lambda text: len(text))\n",
    "print (messages.head())"
   ]
  },
  {
   "cell_type": "code",
   "execution_count": 6,
   "metadata": {
    "collapsed": false
   },
   "outputs": [
    {
     "data": {
      "text/plain": [
       "0    [go, until, jurong, point, crazy, available, o...\n",
       "1                       [ok, lar, joking, wif, u, oni]\n",
       "2    [free, entry, in, 2, a, wkly, comp, to, win, f...\n",
       "3    [u, dun, say, so, early, hor, u, c, already, t...\n",
       "4    [nah, i, do, n't, think, he, go, to, usf, he, ...\n",
       "Name: message, dtype: object"
      ]
     },
     "execution_count": 6,
     "metadata": {},
     "output_type": "execute_result"
    }
   ],
   "source": [
    " ## TODO: unicode python3 vs python 2\n",
    "#Data preprocessing\n",
    "def split_into_tokens(message):\n",
    "    #message = unicode(message, 'utf8')  # convert bytes into proper unicode\n",
    "    return TextBlob(message).words\n",
    "messages.message.head().apply(split_into_tokens)\n",
    "\n",
    "def split_into_lemmas(message):\n",
    "    #message = unicode(message, 'utf8').lower()\n",
    "    words = TextBlob(message.lower() ).words\n",
    "    # for each word, take its \"base form\" = lemma \n",
    "    return [word.lemma for word in words]\n",
    "\n",
    "TextBlob(\"Hello world, how is it going?\").tags\n",
    "\n",
    "messages.message.head().apply(split_into_lemmas)"
   ]
  },
  {
   "cell_type": "code",
   "execution_count": 7,
   "metadata": {
    "collapsed": false
   },
   "outputs": [
    {
     "name": "stdout",
     "output_type": "stream",
     "text": [
      "8859\n"
     ]
    }
   ],
   "source": [
    "bow_transformer = CountVectorizer(analyzer=split_into_lemmas).fit(messages['message'])\n",
    "print (len(bow_transformer.vocabulary_))"
   ]
  },
  {
   "cell_type": "code",
   "execution_count": 8,
   "metadata": {
    "collapsed": false
   },
   "outputs": [
    {
     "name": "stdout",
     "output_type": "stream",
     "text": [
      "U dun say so early hor... U c already then say...\n"
     ]
    }
   ],
   "source": [
    "message4 = messages['message'][3]\n",
    "print (message4)"
   ]
  },
  {
   "cell_type": "code",
   "execution_count": 9,
   "metadata": {
    "collapsed": false
   },
   "outputs": [
    {
     "name": "stdout",
     "output_type": "stream",
     "text": [
      "  (0, 1158)\t1\n",
      "  (0, 1897)\t1\n",
      "  (0, 2893)\t1\n",
      "  (0, 2923)\t1\n",
      "  (0, 4017)\t1\n",
      "  (0, 6726)\t2\n",
      "  (0, 7101)\t1\n",
      "  (0, 7687)\t1\n",
      "  (0, 8002)\t2\n",
      "(1, 8859)\n"
     ]
    }
   ],
   "source": [
    "# result number is different with reference\n",
    "bow4 = bow_transformer.transform([message4])\n",
    "print ( bow4)\n",
    "print (bow4.shape)"
   ]
  },
  {
   "cell_type": "code",
   "execution_count": 10,
   "metadata": {
    "collapsed": false
   },
   "outputs": [
    {
     "name": "stdout",
     "output_type": "stream",
     "text": [
      "say\n",
      "u\n"
     ]
    }
   ],
   "source": [
    "print (bow_transformer.get_feature_names()[6726])\n",
    "print (bow_transformer.get_feature_names()[8002])"
   ]
  },
  {
   "cell_type": "code",
   "execution_count": 11,
   "metadata": {
    "collapsed": false
   },
   "outputs": [
    {
     "name": "stdout",
     "output_type": "stream",
     "text": [
      "sparse matrix shape: (5574, 8859)\n",
      "number of non-zeros: 80338\n",
      "sparsity: 0.16%\n"
     ]
    }
   ],
   "source": [
    "messages_bow = bow_transformer.transform(messages['message'])\n",
    "print ('sparse matrix shape:', messages_bow.shape)\n",
    "print ('number of non-zeros:', messages_bow.nnz)\n",
    "print ('sparsity: %.2f%%' % (100.0 * messages_bow.nnz / (messages_bow.shape[0] * messages_bow.shape[1])))"
   ]
  },
  {
   "cell_type": "code",
   "execution_count": 12,
   "metadata": {
    "collapsed": false
   },
   "outputs": [
    {
     "name": "stdout",
     "output_type": "stream",
     "text": [
      "  (0, 8002)\t0.305003902449\n",
      "  (0, 7687)\t0.225308304351\n",
      "  (0, 7101)\t0.191397477878\n",
      "  (0, 6726)\t0.523390707413\n",
      "  (0, 4017)\t0.456371992578\n",
      "  (0, 2923)\t0.329688073969\n",
      "  (0, 2893)\t0.303704626273\n",
      "  (0, 1897)\t0.246652416565\n",
      "  (0, 1158)\t0.274944401638\n"
     ]
    }
   ],
   "source": [
    "tfidf_transformer = TfidfTransformer().fit(messages_bow)\n",
    "tfidf4 = tfidf_transformer.transform(bow4)\n",
    "print (tfidf4)"
   ]
  },
  {
   "cell_type": "code",
   "execution_count": 13,
   "metadata": {
    "collapsed": false
   },
   "outputs": [
    {
     "name": "stdout",
     "output_type": "stream",
     "text": [
      "2.84954060396\n",
      "8.23975323521\n"
     ]
    }
   ],
   "source": [
    "print (tfidf_transformer.idf_[bow_transformer.vocabulary_['u']])\n",
    "print (tfidf_transformer.idf_[bow_transformer.vocabulary_['university']])"
   ]
  },
  {
   "cell_type": "code",
   "execution_count": 14,
   "metadata": {
    "collapsed": false
   },
   "outputs": [
    {
     "name": "stdout",
     "output_type": "stream",
     "text": [
      "(5574, 8859)\n"
     ]
    }
   ],
   "source": [
    "messages_tfidf = tfidf_transformer.transform(messages_bow)\n",
    "print (messages_tfidf.shape)"
   ]
  },
  {
   "cell_type": "code",
   "execution_count": 15,
   "metadata": {
    "collapsed": false
   },
   "outputs": [
    {
     "name": "stdout",
     "output_type": "stream",
     "text": [
      "CPU times: user 20 ms, sys: 0 ns, total: 20 ms\n",
      "Wall time: 15.6 ms\n"
     ]
    }
   ],
   "source": [
    "%time spam_detector = MultinomialNB().fit(messages_tfidf, messages['label'])"
   ]
  },
  {
   "cell_type": "code",
   "execution_count": 16,
   "metadata": {
    "collapsed": false
   },
   "outputs": [
    {
     "name": "stdout",
     "output_type": "stream",
     "text": [
      "predicted: ham\n",
      "expected: ham\n"
     ]
    }
   ],
   "source": [
    "print ('predicted:', spam_detector.predict(tfidf4)[0])\n",
    "print ('expected:', messages.label[3])"
   ]
  },
  {
   "cell_type": "code",
   "execution_count": 17,
   "metadata": {
    "collapsed": false
   },
   "outputs": [
    {
     "name": "stdout",
     "output_type": "stream",
     "text": [
      "['ham' 'ham' 'spam' ..., 'ham' 'ham' 'ham']\n"
     ]
    }
   ],
   "source": [
    "all_predictions = spam_detector.predict(messages_tfidf)\n",
    "print (all_predictions)"
   ]
  },
  {
   "cell_type": "code",
   "execution_count": 18,
   "metadata": {
    "collapsed": false
   },
   "outputs": [
    {
     "name": "stdout",
     "output_type": "stream",
     "text": [
      "accuracy 0.969501255831\n",
      "confusion matrix\n",
      " [[4827    0]\n",
      " [ 170  577]]\n",
      "(row=expected, col=predicted)\n"
     ]
    }
   ],
   "source": [
    "print ('accuracy', accuracy_score(messages['label'], all_predictions))\n",
    "print ('confusion matrix\\n', confusion_matrix(messages['label'], all_predictions))\n",
    "print ('(row=expected, col=predicted)')"
   ]
  },
  {
   "cell_type": "code",
   "execution_count": 19,
   "metadata": {
    "collapsed": false
   },
   "outputs": [
    {
     "name": "stdout",
     "output_type": "stream",
     "text": [
      "             precision    recall  f1-score   support\n",
      "\n",
      "        ham       0.97      1.00      0.98      4827\n",
      "       spam       1.00      0.77      0.87       747\n",
      "\n",
      "avg / total       0.97      0.97      0.97      5574\n",
      "\n"
     ]
    }
   ],
   "source": [
    "print (classification_report(messages['label'], all_predictions))"
   ]
  },
  {
   "cell_type": "code",
   "execution_count": 20,
   "metadata": {
    "collapsed": false
   },
   "outputs": [
    {
     "name": "stdout",
     "output_type": "stream",
     "text": [
      "4459 1115 5574\n",
      "614     THANX4 TODAY CER IT WAS NICE 2 CATCH UP BUT WE...\n",
      "2098         Are you the cutest girl in the world or what\n",
      "2323                              Should I be stalking u?\n",
      "Name: message, dtype: object\n",
      "<class 'str'>\n",
      "614     ham\n",
      "2098    ham\n",
      "2323    ham\n",
      "Name: label, dtype: object\n",
      "<class 'str'>\n",
      "(4459,)\n",
      "(4459,)\n"
     ]
    }
   ],
   "source": [
    "msg_train, msg_test, label_train, label_test = \\\n",
    "    train_test_split(messages['message'], messages['label'], test_size=0.2)\n",
    "\n",
    "print (len(msg_train), len(msg_test), len(msg_train) + len(msg_test))\n",
    "print(msg_train.iloc[:3])\n",
    "print(type(msg_train.iloc[1]))\n",
    "print(label_train.iloc[:3])\n",
    "print(type(label_train.iloc[1]))\n",
    "print(msg_train.shape)\n",
    "print(label_train.shape)"
   ]
  },
  {
   "cell_type": "code",
   "execution_count": 21,
   "metadata": {
    "collapsed": true
   },
   "outputs": [],
   "source": [
    "pipeline = Pipeline([\n",
    "    ('bow', CountVectorizer(analyzer=split_into_lemmas)),  # strings to token integer counts\n",
    "    ('tfidf', TfidfTransformer()),  # integer counts to weighted TF-IDF scores\n",
    "    ('classifier', MultinomialNB()),  # train on TF-IDF vectors w/ Naive Bayes classifier\n",
    "])"
   ]
  },
  {
   "cell_type": "code",
   "execution_count": 22,
   "metadata": {
    "collapsed": false
   },
   "outputs": [
    {
     "name": "stdout",
     "output_type": "stream",
     "text": [
      "[ 0.93959732  0.94854586  0.94183445  0.94630872  0.94843049  0.96404494\n",
      "  0.94831461  0.95730337  0.9505618   0.95730337]\n"
     ]
    }
   ],
   "source": [
    "scores = cross_val_score(pipeline,  # steps to convert raw messages into models\n",
    "                         msg_train,  # training data\n",
    "                         label_train,  # training labels\n",
    "                         cv=10,  # split data randomly into 10 parts: 9 for training, 1 for scoring\n",
    "                         scoring='accuracy',  # which scoring metric?\n",
    "                         n_jobs=-1,  # -1 = use all cores = faster\n",
    "                         )\n",
    "print (scores)"
   ]
  },
  {
   "cell_type": "code",
   "execution_count": 23,
   "metadata": {
    "collapsed": false
   },
   "outputs": [],
   "source": [
    "#tune paramaters\n",
    "params = {\n",
    "    'tfidf__use_idf': (True, False),\n",
    "    'bow__analyzer': (split_into_lemmas, split_into_tokens),\n",
    "}\n",
    "\n",
    "grid = GridSearchCV(\n",
    "    pipeline,  # pipeline from above\n",
    "    params,  # parameters to tune via cross validation\n",
    "    refit=True,  # fit using all available data at the end, on the best found param combination\n",
    "    n_jobs=-1,  # number of cores to use for parallelization; -1 for \"all cores\"\n",
    "    scoring='accuracy',  # what score are we optimizing?\n",
    "    cv=StratifiedKFold(label_train, n_folds=5),  # what type of cross validation to use\n",
    ")"
   ]
  },
  {
   "cell_type": "code",
   "execution_count": 24,
   "metadata": {
    "collapsed": false
   },
   "outputs": [
    {
     "name": "stdout",
     "output_type": "stream",
     "text": [
      "CPU times: user 2.26 s, sys: 56 ms, total: 2.32 s\n",
      "Wall time: 26.7 s\n",
      "[mean: 0.94573, std: 0.00710, params: {'bow__analyzer': <function split_into_lemmas at 0x7fe2b8597378>, 'tfidf__use_idf': True}, mean: 0.92980, std: 0.00658, params: {'bow__analyzer': <function split_into_lemmas at 0x7fe2b8597378>, 'tfidf__use_idf': False}, mean: 0.94595, std: 0.00455, params: {'bow__analyzer': <function split_into_tokens at 0x7fe279dc4e18>, 'tfidf__use_idf': True}, mean: 0.92801, std: 0.00432, params: {'bow__analyzer': <function split_into_tokens at 0x7fe279dc4e18>, 'tfidf__use_idf': False}]\n"
     ]
    }
   ],
   "source": [
    "%time nb_detector = grid.fit(msg_train, label_train)\n",
    "print (nb_detector.grid_scores_)"
   ]
  },
  {
   "cell_type": "code",
   "execution_count": 25,
   "metadata": {
    "collapsed": false
   },
   "outputs": [
    {
     "name": "stdout",
     "output_type": "stream",
     "text": [
      "ham\n",
      "ham\n"
     ]
    }
   ],
   "source": [
    "print( nb_detector.predict([\"Hi mom, how are you?\"])[0])\n",
    "print( nb_detector.predict([\"WINNER! Credit for free!\"])[0])"
   ]
  },
  {
   "cell_type": "code",
   "execution_count": 26,
   "metadata": {
    "collapsed": false,
    "scrolled": false
   },
   "outputs": [
    {
     "name": "stdout",
     "output_type": "stream",
     "text": [
      "['ham' 'ham' 'ham' ..., 'ham' 'spam' 'ham']\n",
      "<class 'numpy.ndarray'>\n",
      "[[952   0]\n",
      " [ 58 105]]\n",
      "             precision    recall  f1-score   support\n",
      "\n",
      "        ham       0.94      1.00      0.97       952\n",
      "       spam       1.00      0.64      0.78       163\n",
      "\n",
      "avg / total       0.95      0.95      0.94      1115\n",
      "\n",
      "Go until jurong point, crazy.. Available only in bugis n great world la e buffet... Cine there got amore wat...\n",
      "ham\n",
      "spam\n",
      "(4460,)\n",
      "(4460,)\n",
      "England v Macedonia - dont miss the goals/team news. Txt ur national team to 87077 eg ENGLAND to 87077 Try:WALES, SCOTLAND 4txt/ú1.20 POBOXox36504W45WQ 16+\n",
      "ham\n",
      "spam\n",
      "(4461,)\n",
      "(4461,)\n",
      "I see the letter B on my car\n",
      "ham\n",
      "spam\n",
      "(4462,)\n",
      "(4462,)\n",
      "No calls..messages..missed calls\n",
      "ham\n",
      "spam\n",
      "(4463,)\n",
      "(4463,)\n",
      "SMS. ac Sptv: The New Jersey Devils and the Detroit Red Wings play Ice Hockey. Correct or Incorrect? End? Reply END SPTV\n",
      "ham\n",
      "spam\n",
      "(4464,)\n",
      "(4464,)\n",
      "Dear, will call Tmorrow.pls accomodate.\n",
      "ham\n",
      "spam\n",
      "(4465,)\n",
      "(4465,)\n",
      "Hi frnd, which is best way to avoid missunderstding wit our beloved one's?\n",
      "ham\n",
      "spam\n",
      "(4466,)\n",
      "(4466,)\n",
      "Turns out my friends are staying for the whole show and won't be back til ~ &lt;#&gt; , so feel free to go ahead and smoke that $ &lt;#&gt;  worth\n",
      "ham\n",
      "spam\n",
      "(4467,)\n",
      "(4467,)\n",
      "I sent you  &lt;#&gt;  bucks\n",
      "ham\n",
      "spam\n",
      "(4468,)\n",
      "(4468,)\n",
      "Will u meet ur dream partner soon? Is ur career off 2 a flyng start? 2 find out free, txt HORO followed by ur star sign, e. g. HORO ARIES\n",
      "ham\n",
      "spam\n",
      "(4469,)\n",
      "(4469,)\n",
      "Too late. I said i have the website. I didn't i have or dont have the slippers\n",
      "ham\n",
      "spam\n",
      "(4470,)\n",
      "(4470,)\n",
      "The evo. I just had to download flash. Jealous?\n",
      "ham\n",
      "spam\n",
      "(4471,)\n",
      "(4471,)\n",
      "Come to mu, we're sorting out our narcotics situation\n",
      "ham\n",
      "spam\n",
      "(4472,)\n",
      "(4472,)\n",
      "Okie...\n",
      "ham\n",
      "spam\n",
      "(4473,)\n",
      "(4473,)\n",
      "Ok..\n",
      "ham\n",
      "spam\n",
      "(4474,)\n",
      "(4474,)\n",
      "Hurt me... Tease me... Make me cry... But in the end of my life when i die plz keep one rose on my grave and say STUPID I MISS U.. HAVE A NICE DAY BSLVYL\n",
      "ham\n",
      "spam\n",
      "(4475,)\n",
      "(4475,)\n",
      "Shit that is really shocking and scary, cant imagine for a second. Def up for night out. Do u think there is somewhere i could crash for night, save on taxi?\n",
      "ham\n",
      "spam\n",
      "(4476,)\n",
      "(4476,)\n",
      "Oh and by the way you do have more food in your fridge! Want to go out for a meal tonight? \n",
      "ham\n",
      "spam\n",
      "(4477,)\n",
      "(4477,)\n",
      "Valentines Day Special! Win over £1000 in our quiz and take your partner on the trip of a lifetime! Send GO to 83600 now. 150p/msg rcvd. CustCare:08718720201.\n",
      "ham\n",
      "spam\n",
      "(4478,)\n",
      "(4478,)\n",
      "Ta-Daaaaa! I am home babe, are you still up ?\n",
      "ham\n",
      "spam\n",
      "(4479,)\n",
      "(4479,)\n",
      "Keep my payasam there if rinu brings\n",
      "ham\n",
      "spam\n",
      "(4480,)\n",
      "(4480,)\n",
      "4mths half price Orange line rental & latest camera phones 4 FREE. Had your phone 11mths ? Call MobilesDirect free on 08000938767 to update now! or2stoptxt\n",
      "ham\n",
      "spam\n",
      "(4481,)\n",
      "(4481,)\n",
      "Someone has contacted our dating service and entered your phone because they fancy you! To find out who it is call from a landline 09111032124 . PoBox12n146tf150p\n",
      "ham\n",
      "spam\n",
      "(4482,)\n",
      "(4482,)\n",
      "Congrats! Nokia 3650 video camera phone is your Call 09066382422 Calls cost 150ppm Ave call 3mins vary from mobiles 16+ Close 300603 post BCM4284 Ldn WC1N3XX\n",
      "ham\n",
      "spam\n",
      "(4483,)\n",
      "(4483,)\n",
      "Going thru a very different feeling.wavering decisions and coping up with the same is the same individual.time will heal everything i believe.\n",
      "ham\n",
      "spam\n",
      "(4484,)\n",
      "(4484,)\n",
      "Tension ah?what machi?any problem?\n",
      "ham\n",
      "spam\n",
      "(4485,)\n",
      "(4485,)\n",
      "FREE MESSAGE Activate your 500 FREE Text Messages by replying to this message with the word FREE For terms & conditions, visit www.07781482378.com\n",
      "ham\n",
      "spam\n",
      "(4486,)\n",
      "(4486,)\n",
      "Kate jackson rec center before 7ish, right?\n",
      "ham\n",
      "spam\n",
      "(4487,)\n",
      "(4487,)\n",
      "URGENT!: Your Mobile No. was awarded a £2,000 Bonus Caller Prize on 02/09/03! This is our 2nd attempt to contact YOU! Call 0871-872-9755 BOX95QU\n",
      "ham\n",
      "spam\n",
      "(4488,)\n",
      "(4488,)\n",
      "What Today-sunday..sunday is holiday..so no work..\n",
      "ham\n",
      "spam\n",
      "(4489,)\n",
      "(4489,)\n",
      "Probably gonna be here for a while, see you later tonight &lt;)\n",
      "ham\n",
      "spam\n",
      "(4490,)\n",
      "(4490,)\n",
      "I know that my friend already told that.\n",
      "ham\n",
      "spam\n",
      "(4491,)\n",
      "(4491,)\n",
      "Yar lor wait 4 my mum 2 finish sch then have lunch lor... I whole morning stay at home clean my room now my room quite clean... Hee...\n",
      "ham\n",
      "spam\n",
      "(4492,)\n",
      "(4492,)\n",
      "You have won ?1,000 cash or a ?2,000 prize! To claim, call09050000327\n",
      "ham\n",
      "spam\n",
      "(4493,)\n",
      "(4493,)\n",
      "I had askd u a question some hours before. Its answer\n",
      "ham\n",
      "spam\n",
      "(4494,)\n",
      "(4494,)\n",
      "Leave it de:-). Start Prepare for next:-)..\n",
      "ham\n",
      "spam\n",
      "(4495,)\n",
      "(4495,)\n",
      "Cause I'm not freaky lol\n",
      "ham\n",
      "spam\n",
      "(4496,)\n",
      "(4496,)\n",
      "Realy sorry-i don't recognise this number and am now confused :) who r u please?! \n",
      "ham\n",
      "spam\n",
      "(4497,)\n",
      "(4497,)\n",
      "Cant think of anyone with * spare room off * top of my head\n",
      "ham\n",
      "spam\n",
      "(4498,)\n",
      "(4498,)\n",
      "Thanks for picking up the trash.\n",
      "ham\n",
      "spam\n",
      "(4499,)\n",
      "(4499,)\n",
      "S:)s.nervous  &lt;#&gt; :)\n",
      "ham\n",
      "spam\n",
      "(4500,)\n",
      "(4500,)\n",
      "U were outbid by simonwatson5120 on the Shinco DVD Plyr. 2 bid again, visit sms. ac/smsrewards 2 end bid notifications, reply END OUT\n",
      "ham\n",
      "spam\n",
      "(4501,)\n",
      "(4501,)\n",
      "\"BOO BABE! U ENJOYIN YOURJOB? U SEEMED 2 B GETTIN ON WELL HUNNY!HOPE URE OK?TAKE CARE & ILLSPEAK 2U SOONLOTS OF LOVEME XXXX.\"\n",
      "ham\n",
      "spam\n",
      "(4502,)\n",
      "(4502,)\n",
      "Sir, I have been late in paying rent for the past few months and had to pay a $ &lt;#&gt;  charge. I felt it would be inconsiderate of me to nag about something you give at great cost to yourself and that's why i didnt speak up. I however am in a recession and wont be able to pay the charge this month hence my askin well ahead of month's end. Can you please help. Thanks\n",
      "ham\n",
      "spam\n",
      "(4503,)\n",
      "(4503,)\n",
      "We tried to contact you re our offer of New Video Phone 750 anytime any network mins HALF PRICE Rental camcorder call 08000930705 or reply for delivery Wed\n",
      "ham\n",
      "spam\n",
      "(4504,)\n",
      "(4504,)\n",
      "Talk With Yourself Atleast Once In A Day...!!! Otherwise You Will Miss Your Best FRIEND In This WORLD...!!! -Shakespeare- SHESIL  &lt;#&gt;\n",
      "ham\n",
      "spam\n",
      "(4505,)\n",
      "(4505,)\n",
      "Wife.how she knew the time of murder exactly\n",
      "ham\n",
      "spam\n",
      "(4506,)\n",
      "(4506,)\n",
      "Congratulations ore mo owo re wa. Enjoy it and i wish you many happy moments to and fro wherever you go\n",
      "ham\n",
      "spam\n",
      "(4507,)\n",
      "(4507,)\n",
      "Haha awesome, omw back now then\n",
      "ham\n",
      "spam\n",
      "(4508,)\n",
      "(4508,)\n",
      "Yo guess what I just dropped\n",
      "ham\n",
      "spam\n",
      "(4509,)\n",
      "(4509,)\n",
      "I'm in office now . I will call you  &lt;#&gt;  min:)\n",
      "ham\n",
      "spam\n",
      "(4510,)\n",
      "(4510,)\n",
      "No..but heard abt tat..\n",
      "ham\n",
      "spam\n",
      "(4511,)\n",
      "(4511,)\n",
      "Shall i send that exe to your mail id.\n",
      "ham\n",
      "spam\n",
      "(4512,)\n",
      "(4512,)\n",
      "Nope watching tv at home... Not going out. V bored...\n",
      "ham\n",
      "spam\n",
      "(4513,)\n",
      "(4513,)\n",
      "Yup bathe liao...\n",
      "ham\n",
      "spam\n",
      "(4514,)\n",
      "(4514,)\n",
      "Easy ah?sen got selected means its good..\n",
      "ham\n",
      "spam\n",
      "(4515,)\n",
      "(4515,)\n",
      "Do u noe wat time e place dat sells 4d closes?\n",
      "ham\n",
      "spam\n",
      "(4516,)\n",
      "(4516,)\n",
      "I might come to kerala for 2 days.so you can be prepared to take a leave once i finalise .dont plan any travel during my visit.need to finish urgent works.\n",
      "ham\n",
      "spam\n",
      "(4517,)\n",
      "(4517,)\n",
      "[[952   0]\n",
      " [ 58 105]]\n",
      "             precision    recall  f1-score   support\n",
      "\n",
      "        ham       0.94      1.00      0.97       952\n",
      "       spam       1.00      0.64      0.78       163\n",
      "\n",
      "avg / total       0.95      0.95      0.94      1115\n",
      "\n"
     ]
    }
   ],
   "source": [
    "predictions = nb_detector.predict(msg_test)\n",
    "print (predictions)\n",
    "print(type(predictions))\n",
    "\n",
    "\n",
    "print (confusion_matrix(label_test, predictions))\n",
    "print (classification_report(label_test, predictions))\n",
    "#for i in label_test:\n",
    " #   print(i[1])\n",
    "#print(label_test)\n",
    "\n",
    "label_test_value=label_test.values\n",
    "label_test_index=label_test.index\n",
    "#print(msg_train.shape)\n",
    "#print(label_train.shape)\n",
    "#print(label_test.as_matrix)\n",
    "for i in range(len(predictions)):\n",
    "    if (predictions[i] != label_test_value[i]):\n",
    "        print(messages['message'][i])\n",
    "        print(predictions[i])\n",
    "        print(label_test_value[i])\n",
    "        indexResult= str(label_test_index[i])\n",
    "        #print(indexResult)\n",
    "        #print(type(indexResult))\n",
    "        mess= messages['message'][i]\n",
    "        #print(mess)\n",
    "        #print(type(mess))\n",
    "        s1=pandas.Series([mess],index=[indexResult])\n",
    "        msg_train=msg_train.append(s1)\n",
    "        label_train=label_train.append(pandas.Series(label_test_value[i], index=[indexResult]))\n",
    "        print(msg_train.shape)\n",
    "        print(label_train.shape)\n",
    "print (confusion_matrix(label_test, predictions))\n",
    "print (classification_report(label_test, predictions))"
   ]
  },
  {
   "cell_type": "code",
   "execution_count": 27,
   "metadata": {
    "collapsed": false
   },
   "outputs": [
    {
     "name": "stdout",
     "output_type": "stream",
     "text": [
      "[ 0.93818985  0.94701987  0.94247788  0.95132743  0.95132743  0.95121951\n",
      "  0.94678492  0.9556541   0.96008869  0.88248337]\n",
      "CPU times: user 2.8 s, sys: 56 ms, total: 2.85 s\n",
      "Wall time: 26.4 s\n",
      "[mean: 0.93978, std: 0.01000, params: {'bow__analyzer': <function split_into_lemmas at 0x7fe2b8597378>, 'tfidf__use_idf': True}, mean: 0.92251, std: 0.00782, params: {'bow__analyzer': <function split_into_lemmas at 0x7fe2b8597378>, 'tfidf__use_idf': False}, mean: 0.93890, std: 0.00836, params: {'bow__analyzer': <function split_into_tokens at 0x7fe279dc4e18>, 'tfidf__use_idf': True}, mean: 0.91942, std: 0.00777, params: {'bow__analyzer': <function split_into_tokens at 0x7fe279dc4e18>, 'tfidf__use_idf': False}]\n",
      "ham\n",
      "spam\n",
      "['spam' 'ham' 'ham' ..., 'ham' 'spam' 'ham']\n",
      "<class 'numpy.ndarray'>\n",
      "[[952   0]\n",
      " [ 53 110]]\n",
      "             precision    recall  f1-score   support\n",
      "\n",
      "        ham       0.95      1.00      0.97       952\n",
      "       spam       1.00      0.67      0.81       163\n",
      "\n",
      "avg / total       0.95      0.95      0.95      1115\n",
      "\n"
     ]
    }
   ],
   "source": [
    "scores = cross_val_score(pipeline,  # steps to convert raw messages into models\n",
    "                         msg_train,  # training data\n",
    "                         label_train,  # training labels\n",
    "                         cv=10,  # split data randomly into 10 parts: 9 for training, 1 for scoring\n",
    "                         scoring='accuracy',  # which scoring metric?\n",
    "                         n_jobs=-1,  # -1 = use all cores = faster\n",
    "                         )\n",
    "print (scores)\n",
    "\n",
    "grid = GridSearchCV(\n",
    "    pipeline,  # pipeline from above\n",
    "    params,  # parameters to tune via cross validation\n",
    "    refit=True,  # fit using all available data at the end, on the best found param combination\n",
    "    n_jobs=-1,  # number of cores to use for parallelization; -1 for \"all cores\"\n",
    "    scoring='accuracy',  # what score are we optimizing?\n",
    "    cv=StratifiedKFold(label_train, n_folds=5),  # what type of cross validation to use\n",
    ")\n",
    "\n",
    "%time nb_detector = grid.fit(msg_train, label_train)\n",
    "print (nb_detector.grid_scores_)\n",
    "\n",
    "print( nb_detector.predict([\"Hi mom, how are you?\"])[0])\n",
    "print( nb_detector.predict([\"WINNER! Credit for free!\"])[0])\n",
    "\n",
    "predictions = nb_detector.predict(msg_test)\n",
    "print (predictions)\n",
    "print(type(predictions))\n",
    "\n",
    "\n",
    "print (confusion_matrix(label_test, predictions))\n",
    "print (classification_report(label_test, predictions))"
   ]
  },
  {
   "cell_type": "code",
   "execution_count": null,
   "metadata": {
    "collapsed": false
   },
   "outputs": [],
   "source": []
  },
  {
   "cell_type": "code",
   "execution_count": null,
   "metadata": {
    "collapsed": true
   },
   "outputs": [],
   "source": [
    "\n"
   ]
  }
 ],
 "metadata": {
  "kernelspec": {
   "display_name": "Python 3",
   "language": "python",
   "name": "python3"
  },
  "language_info": {
   "codemirror_mode": {
    "name": "ipython",
    "version": 3
   },
   "file_extension": ".py",
   "mimetype": "text/x-python",
   "name": "python",
   "nbconvert_exporter": "python",
   "pygments_lexer": "ipython3",
   "version": "3.6.0"
  }
 },
 "nbformat": 4,
 "nbformat_minor": 2
}
